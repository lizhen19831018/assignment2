{
 "cells": [
  {
   "cell_type": "code",
   "execution_count": 2,
   "metadata": {},
   "outputs": [
    {
     "name": "stdout",
     "output_type": "stream",
     "text": [
      "Enter your name: chunk\n",
      "Hello chunk\n"
     ]
    }
   ],
   "source": [
    "# Chapter 2 \n",
    "# Exercises 2\n",
    "name = input(\"Enter your name: \")\n",
    "print(\"Hello \" + name)"
   ]
  },
  {
   "cell_type": "code",
   "execution_count": 3,
   "metadata": {},
   "outputs": [
    {
     "name": "stdout",
     "output_type": "stream",
     "text": [
      "Enter Hours: 32\n",
      "Enter Rate: 1.754\n",
      "Pay: 56.13\n"
     ]
    }
   ],
   "source": [
    "# Chapter 2\n",
    "# Exercise 3\n",
    "hours = float(input(\"Enter Hours: \"))\n",
    "rate = float(input(\"Enter Rate: \"))\n",
    "print(\"Pay: \" + str(round((hours * rate), 2)))"
   ]
  },
  {
   "cell_type": "code",
   "execution_count": 5,
   "metadata": {},
   "outputs": [
    {
     "name": "stdout",
     "output_type": "stream",
     "text": [
      "width = 17\n",
      "height = 12.0\n",
      "1. width//2 = 8; type is 'int'\n",
      "2. width/2.0 = 8.5; type is 'float'\n",
      "3. height/3 = 4.0; type is 'float'\n",
      "4. 1 + 2 * 5 = 11; type is 'int'\n"
     ]
    }
   ],
   "source": [
    "# Chapter 2\n",
    "# Exercise 4\n",
    "width = 17\n",
    "height = 12.0\n",
    "print(\"width = \" + str(width))\n",
    "print(\"height = \" + str(height))\n",
    "print(\"1. width//2 = \" + str(width//2) + \"; type is \" + str(type(width//2)).replace(\"<class \", \"\").replace(\">\", \"\"))\n",
    "print(\"2. width/2.0 = \" + str(width/2.0) + \"; type is \" + str(type(width/2.0)).replace(\"<class \", \"\").replace(\">\", \"\"))\n",
    "print(\"3. height/3 = \" + str(height/3) + \"; type is \" + str(type(height/3)).replace(\"<class \", \"\").replace(\">\", \"\"))\n",
    "print(\"4. 1 + 2 * 5 = \" + str(1 + 2 * 5) + \"; type is \" + str(type(1 + 2 * 5)).replace(\"<class \", \"\").replace(\">\", \"\"))\n"
   ]
  },
  {
   "cell_type": "code",
   "execution_count": 6,
   "metadata": {},
   "outputs": [
    {
     "name": "stdout",
     "output_type": "stream",
     "text": [
      "Celsius: 23\n",
      "Fahrenheit: 73.4\n"
     ]
    }
   ],
   "source": [
    "# Chapter 2\n",
    "# Exercise 5\n",
    "celsius = float(input(\"Celsius: \"))\n",
    "print(\"Fahrenheit: \" + str(round(celsius * (9/5) + 32, 2)))"
   ]
  },
  {
   "cell_type": "code",
   "execution_count": 7,
   "metadata": {},
   "outputs": [
    {
     "name": "stdout",
     "output_type": "stream",
     "text": [
      "Enter Hours: 45\n",
      "Enter Rate: 10\n",
      "Pay: 475.0\n"
     ]
    }
   ],
   "source": [
    "# Chapter 3\n",
    "# Exercise 1\n",
    "OVERHOUR = 40\n",
    "EXTRARATE = 1.5\n",
    "\n",
    "hours = float(input(\"Enter Hours: \"))\n",
    "rate = float(input(\"Enter Rate: \"))\n",
    "if hours <= OVERHOUR:\n",
    "    # under 40 hours\n",
    "    print(\"Pay: \" + str(round(hours * rate, 2)))\n",
    "else:\n",
    "    # over 40 hours\n",
    "    print(\"Pay: \" + str(round(OVERHOUR * rate + (hours - OVERHOUR) * (rate * EXTRARATE), 2)))"
   ]
  },
  {
   "cell_type": "code",
   "execution_count": 9,
   "metadata": {},
   "outputs": [
    {
     "name": "stdout",
     "output_type": "stream",
     "text": [
      "Enter Hours: 12\n",
      "Enter Rate: nine\n",
      "Error, please enter numeric input\n"
     ]
    }
   ],
   "source": [
    "# Chapter 3\n",
    "# Exercise 2\n",
    "OVERHOUR = 40\n",
    "EXTRARATE = 1.5\n",
    "\n",
    "try:\n",
    "    hours = float(input(\"Enter Hours: \"))\n",
    "    rate = float(input(\"Enter Rate: \"))\n",
    "    if hours <= OVERHOUR:\n",
    "        # under 40 hours\n",
    "        print(\"Pay: \" + str(round(hours * rate, 2)))\n",
    "    else:\n",
    "        # over 40 hours\n",
    "        print(\"Pay: \" + str(round(OVERHOUR * rate + (hours - OVERHOUR) * (rate * EXTRARATE), 2)))\n",
    "except:\n",
    "    print(\"Error, please enter numeric input\")"
   ]
  },
  {
   "cell_type": "code",
   "execution_count": 1,
   "metadata": {},
   "outputs": [
    {
     "name": "stdout",
     "output_type": "stream",
     "text": [
      "Enter score: 0.95\n",
      "A\n"
     ]
    }
   ],
   "source": [
    "# Chapter 3\n",
    "# Exercise 3\n",
    "#Score Grade\n",
    "#>= 0.9 A\n",
    "#>= 0.8 B\n",
    "#>= 0.7 C\n",
    "#>= 0.6 D\n",
    "# < 0.6 F\n",
    "\n",
    "try:\n",
    "    score = float(input(\"Enter score: \"))\n",
    "    if score > 1 or score < 0:\n",
    "        print(\"Bad score\")\n",
    "    elif score >= 0.9:\n",
    "        print(\"A\")\n",
    "    elif score >= 0.8:\n",
    "        print(\"B\")\n",
    "    elif score >= 0.7:\n",
    "        print(\"C\")\n",
    "    elif score >= 0.6:\n",
    "        print(\"D\")\n",
    "    elif score  < 0.6:\n",
    "        print(\"F\")\n",
    "except:\n",
    "    print(\"Bad score\")"
   ]
  },
  {
   "cell_type": "code",
   "execution_count": 2,
   "metadata": {},
   "outputs": [
    {
     "name": "stdout",
     "output_type": "stream",
     "text": [
      "Enter score: perfect\n",
      "Bad score\n"
     ]
    }
   ],
   "source": [
    "# Chapter 3\n",
    "# Exercise 3\n",
    "#Score Grade\n",
    "#>= 0.9 A\n",
    "#>= 0.8 B\n",
    "#>= 0.7 C\n",
    "#>= 0.6 D\n",
    "# < 0.6 F\n",
    "\n",
    "try:\n",
    "    score = float(input(\"Enter score: \"))\n",
    "    if score > 1 or score < 0:\n",
    "        print(\"Bad score\")\n",
    "    elif score >= 0.9:\n",
    "        print(\"A\")\n",
    "    elif score >= 0.8:\n",
    "        print(\"B\")\n",
    "    elif score >= 0.7:\n",
    "        print(\"C\")\n",
    "    elif score >= 0.6:\n",
    "        print(\"D\")\n",
    "    elif score  < 0.6:\n",
    "        print(\"F\")\n",
    "except:\n",
    "    print(\"Bad score\")"
   ]
  },
  {
   "cell_type": "code",
   "execution_count": 3,
   "metadata": {},
   "outputs": [
    {
     "name": "stdout",
     "output_type": "stream",
     "text": [
      "Enter score: 10.0\n",
      "Bad score\n"
     ]
    }
   ],
   "source": [
    "# Chapter 3\n",
    "# Exercise 3\n",
    "#Score Grade\n",
    "#>= 0.9 A\n",
    "#>= 0.8 B\n",
    "#>= 0.7 C\n",
    "#>= 0.6 D\n",
    "# < 0.6 F\n",
    "\n",
    "try:\n",
    "    score = float(input(\"Enter score: \"))\n",
    "    if score > 1 or score < 0:\n",
    "        print(\"Bad score\")\n",
    "    elif score >= 0.9:\n",
    "        print(\"A\")\n",
    "    elif score >= 0.8:\n",
    "        print(\"B\")\n",
    "    elif score >= 0.7:\n",
    "        print(\"C\")\n",
    "    elif score >= 0.6:\n",
    "        print(\"D\")\n",
    "    elif score  < 0.6:\n",
    "        print(\"F\")\n",
    "except:\n",
    "    print(\"Bad score\")"
   ]
  },
  {
   "cell_type": "code",
   "execution_count": 4,
   "metadata": {},
   "outputs": [
    {
     "name": "stdout",
     "output_type": "stream",
     "text": [
      "Enter score: 0.75\n",
      "C\n"
     ]
    }
   ],
   "source": [
    "# Chapter 3\n",
    "# Exercise 3\n",
    "#Score Grade\n",
    "#>= 0.9 A\n",
    "#>= 0.8 B\n",
    "#>= 0.7 C\n",
    "#>= 0.6 D\n",
    "# < 0.6 F\n",
    "\n",
    "try:\n",
    "    score = float(input(\"Enter score: \"))\n",
    "    if score > 1 or score < 0:\n",
    "        print(\"Bad score\")\n",
    "    elif score >= 0.9:\n",
    "        print(\"A\")\n",
    "    elif score >= 0.8:\n",
    "        print(\"B\")\n",
    "    elif score >= 0.7:\n",
    "        print(\"C\")\n",
    "    elif score >= 0.6:\n",
    "        print(\"D\")\n",
    "    elif score  < 0.6:\n",
    "        print(\"F\")\n",
    "except:\n",
    "    print(\"Bad score\")"
   ]
  },
  {
   "cell_type": "code",
   "execution_count": 5,
   "metadata": {},
   "outputs": [
    {
     "name": "stdout",
     "output_type": "stream",
     "text": [
      "Enter score: .5\n",
      "F\n"
     ]
    }
   ],
   "source": [
    "# Chapter 3\n",
    "# Exercise 3\n",
    "#Score Grade\n",
    "#>= 0.9 A\n",
    "#>= 0.8 B\n",
    "#>= 0.7 C\n",
    "#>= 0.6 D\n",
    "# < 0.6 F\n",
    "\n",
    "try:\n",
    "    score = float(input(\"Enter score: \"))\n",
    "    if score > 1 or score < 0:\n",
    "        print(\"Bad score\")\n",
    "    elif score >= 0.9:\n",
    "        print(\"A\")\n",
    "    elif score >= 0.8:\n",
    "        print(\"B\")\n",
    "    elif score >= 0.7:\n",
    "        print(\"C\")\n",
    "    elif score >= 0.6:\n",
    "        print(\"D\")\n",
    "    elif score  < 0.6:\n",
    "        print(\"F\")\n",
    "except:\n",
    "    print(\"Bad score\")"
   ]
  },
  {
   "cell_type": "code",
   "execution_count": 11,
   "metadata": {},
   "outputs": [
    {
     "name": "stdout",
     "output_type": "stream",
     "text": [
      "ABC\n",
      "Zap\n",
      "ABC\n"
     ]
    }
   ],
   "source": [
    "# Chapter 4\n",
    "# Excerice 5\n",
    "def fred():\n",
    "    print(\"Zap\")\n",
    "    \n",
    "def jane():\n",
    "    print(\"ABC\")\n",
    "    \n",
    "jane()\n",
    "fred()\n",
    "jane()"
   ]
  },
  {
   "cell_type": "code",
   "execution_count": 12,
   "metadata": {},
   "outputs": [
    {
     "name": "stdout",
     "output_type": "stream",
     "text": [
      "Enter Hours: 45\n",
      "Enter Rate: 10\n",
      "Pay: 475.0\n"
     ]
    }
   ],
   "source": [
    "# Chapter 4\n",
    "# Excerice 6\n",
    "def computepay(hours, rate):\n",
    "    OVERHOUR = 40\n",
    "    EXTRARATE = 1.5\n",
    "    if hours <= OVERHOUR:\n",
    "        # under 40 hours\n",
    "        print(\"Pay: \" + str(round(hours * rate, 2)))\n",
    "    else:\n",
    "        # over 40 hours\n",
    "        print(\"Pay: \" + str(round(OVERHOUR * rate + (hours - OVERHOUR) * (rate * EXTRARATE), 2)))\n",
    "\n",
    "try:\n",
    "    hours = float(input(\"Enter Hours: \"))\n",
    "    rate = float(input(\"Enter Rate: \"))\n",
    "    computepay(hours, rate)\n",
    "except:\n",
    "    print(\"Error, please enter numeric input\")"
   ]
  },
  {
   "cell_type": "code",
   "execution_count": 6,
   "metadata": {},
   "outputs": [
    {
     "name": "stdout",
     "output_type": "stream",
     "text": [
      "Enter score: 0.95\n",
      "A\n"
     ]
    }
   ],
   "source": [
    "# Chapter 4\n",
    "# Excerice 7\n",
    "def computegrade(score):\n",
    "    if score > 1 or score < 0:\n",
    "        print(\"Bad score\")\n",
    "    elif score >= 0.9:\n",
    "        print(\"A\")\n",
    "    elif score >= 0.8:\n",
    "        print(\"B\")\n",
    "    elif score >= 0.7:\n",
    "        print(\"C\")\n",
    "    elif score >= 0.6:\n",
    "        print(\"D\")\n",
    "    else:\n",
    "        print(\"F\")\n",
    "\n",
    "try:\n",
    "    score = float(input(\"Enter score: \"))\n",
    "    computegrade(score)\n",
    "except:\n",
    "    print(\"Bad score\")"
   ]
  },
  {
   "cell_type": "code",
   "execution_count": 7,
   "metadata": {},
   "outputs": [
    {
     "name": "stdout",
     "output_type": "stream",
     "text": [
      "Enter score: perfect\n",
      "Bad score\n"
     ]
    }
   ],
   "source": [
    "# Chapter 4\n",
    "# Excerice 7\n",
    "def computegrade(score):\n",
    "    if score > 1 or score < 0:\n",
    "        print(\"Bad score\")\n",
    "    elif score >= 0.9:\n",
    "        print(\"A\")\n",
    "    elif score >= 0.8:\n",
    "        print(\"B\")\n",
    "    elif score >= 0.7:\n",
    "        print(\"C\")\n",
    "    elif score >= 0.6:\n",
    "        print(\"D\")\n",
    "    else:\n",
    "        print(\"F\")\n",
    "\n",
    "try:\n",
    "    score = float(input(\"Enter score: \"))\n",
    "    computegrade(score)\n",
    "except:\n",
    "    print(\"Bad score\")"
   ]
  },
  {
   "cell_type": "code",
   "execution_count": 8,
   "metadata": {},
   "outputs": [
    {
     "name": "stdout",
     "output_type": "stream",
     "text": [
      "Enter score: 10.0\n",
      "Bad score\n"
     ]
    }
   ],
   "source": [
    "# Chapter 4\n",
    "# Excerice 7\n",
    "def computegrade(score):\n",
    "    if score > 1 or score < 0:\n",
    "        print(\"Bad score\")\n",
    "    elif score >= 0.9:\n",
    "        print(\"A\")\n",
    "    elif score >= 0.8:\n",
    "        print(\"B\")\n",
    "    elif score >= 0.7:\n",
    "        print(\"C\")\n",
    "    elif score >= 0.6:\n",
    "        print(\"D\")\n",
    "    else:\n",
    "        print(\"F\")\n",
    "\n",
    "try:\n",
    "    score = float(input(\"Enter score: \"))\n",
    "    computegrade(score)\n",
    "except:\n",
    "    print(\"Bad score\")"
   ]
  },
  {
   "cell_type": "code",
   "execution_count": 9,
   "metadata": {},
   "outputs": [
    {
     "name": "stdout",
     "output_type": "stream",
     "text": [
      "Enter score: 0.75\n",
      "C\n"
     ]
    }
   ],
   "source": [
    "# Chapter 4\n",
    "# Excerice 7\n",
    "def computegrade(score):\n",
    "    if score > 1 or score < 0:\n",
    "        print(\"Bad score\")\n",
    "    elif score >= 0.9:\n",
    "        print(\"A\")\n",
    "    elif score >= 0.8:\n",
    "        print(\"B\")\n",
    "    elif score >= 0.7:\n",
    "        print(\"C\")\n",
    "    elif score >= 0.6:\n",
    "        print(\"D\")\n",
    "    else:\n",
    "        print(\"F\")\n",
    "\n",
    "try:\n",
    "    score = float(input(\"Enter score: \"))\n",
    "    computegrade(score)\n",
    "except:\n",
    "    print(\"Bad score\")"
   ]
  },
  {
   "cell_type": "code",
   "execution_count": 10,
   "metadata": {},
   "outputs": [
    {
     "name": "stdout",
     "output_type": "stream",
     "text": [
      "Enter score: 0.5\n",
      "F\n"
     ]
    }
   ],
   "source": [
    "# Chapter 4\n",
    "# Excerice 7\n",
    "def computegrade(score):\n",
    "    if score > 1 or score < 0:\n",
    "        print(\"Bad score\")\n",
    "    elif score >= 0.9:\n",
    "        print(\"A\")\n",
    "    elif score >= 0.8:\n",
    "        print(\"B\")\n",
    "    elif score >= 0.7:\n",
    "        print(\"C\")\n",
    "    elif score >= 0.6:\n",
    "        print(\"D\")\n",
    "    else:\n",
    "        print(\"F\")\n",
    "\n",
    "try:\n",
    "    score = float(input(\"Enter score: \"))\n",
    "    computegrade(score)\n",
    "except:\n",
    "    print(\"Bad score\")"
   ]
  },
  {
   "cell_type": "code",
   "execution_count": null,
   "metadata": {},
   "outputs": [],
   "source": []
  }
 ],
 "metadata": {
  "kernelspec": {
   "display_name": "Python 3",
   "language": "python",
   "name": "python3"
  },
  "language_info": {
   "codemirror_mode": {
    "name": "ipython",
    "version": 3
   },
   "file_extension": ".py",
   "mimetype": "text/x-python",
   "name": "python",
   "nbconvert_exporter": "python",
   "pygments_lexer": "ipython3",
   "version": "3.7.3"
  }
 },
 "nbformat": 4,
 "nbformat_minor": 2
}
